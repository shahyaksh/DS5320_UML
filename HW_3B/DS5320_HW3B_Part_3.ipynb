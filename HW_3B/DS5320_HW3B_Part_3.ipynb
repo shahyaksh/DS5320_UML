{
 "cells": [
  {
   "cell_type": "code",
   "execution_count": 3,
   "id": "cdd8d39b-51d0-40db-ab60-3784fabbaaaf",
   "metadata": {},
   "outputs": [],
   "source": [
    "import pandas as pd\n",
    "import numpy as np\n",
    "import matplotlib.pyplot as plt\n",
    "from sklearn.datasets import fetch_20newsgroups\n",
    "from sklearn.metrics import accuracy_score\n",
    "from sklearn.linear_model import LogisticRegression\n",
    "from sklearn.model_selection import train_test_split\n",
    "from sklearn.feature_selection import chi2,mutual_info_classif\n",
    "from sklearn.feature_extraction.text import TfidfVectorizer\n",
    "from sklearn.manifold import TSNE"
   ]
  },
  {
   "cell_type": "code",
   "execution_count": 4,
   "id": "5eaea046-352f-4161-ab62-860579487e49",
   "metadata": {},
   "outputs": [],
   "source": [
    "newsgroups_data = fetch_20newsgroups(subset='all',remove=('headers', 'footers', 'quotes'))"
   ]
  },
  {
   "cell_type": "code",
   "execution_count": 5,
   "id": "8d1c404d-b913-4460-87e1-80a1c9ae9150",
   "metadata": {},
   "outputs": [],
   "source": [
    "vectorizer = TfidfVectorizer(stop_words='english',max_features=10000,token_pattern='[A-Za-z]+',use_idf=False)  # Remove stopwords and apply TF-IDF\n",
    "ng_group_tf_vector = vectorizer.fit_transform(newsgroups_data.data)\n",
    "ng_feature_names = vectorizer.get_feature_names_out()"
   ]
  },
  {
   "cell_type": "markdown",
   "id": "f2e1020d-1970-4dad-9bda-b483e7128df0",
   "metadata": {},
   "source": [
    "# Problem 4"
   ]
  },
  {
   "cell_type": "code",
   "execution_count": 6,
   "id": "ad2b425e-93de-4f8d-b602-fcb926cc81c4",
   "metadata": {},
   "outputs": [],
   "source": [
    "X = ng_group_tf_vector\n",
    "y_labels = newsgroups_data.target"
   ]
  },
  {
   "cell_type": "code",
   "execution_count": 8,
   "id": "138a3e54-c73d-4667-af27-583b75165bff",
   "metadata": {},
   "outputs": [],
   "source": [
    "X_train,X_test,y_train,y_test = train_test_split(X,y_labels,test_size=0.2)"
   ]
  },
  {
   "cell_type": "code",
   "execution_count": 9,
   "id": "691a5149-441e-4e06-8e8a-cac03dcb2b30",
   "metadata": {},
   "outputs": [],
   "source": [
    "log_reg = LogisticRegression(penalty='l1',solver='liblinear')\n",
    "log_reg.fit(X_train,y_train)\n",
    "y_pred = log_reg.predict(X_test)\n",
    "acc = accuracy_score(y_test,y_pred)"
   ]
  },
  {
   "cell_type": "code",
   "execution_count": 10,
   "id": "549c66f6-1df9-46c1-9440-6e18d89befbc",
   "metadata": {},
   "outputs": [
    {
     "name": "stdout",
     "output_type": "stream",
     "text": [
      "Accuracy:0.666\n"
     ]
    }
   ],
   "source": [
    "print('Accuracy:%0.3f'% acc)"
   ]
  },
  {
   "cell_type": "code",
   "execution_count": 14,
   "id": "6e77676d-c837-455e-8caa-6ad3bd037992",
   "metadata": {},
   "outputs": [],
   "source": [
    "all_features = np.abs(log_reg.coef_).sum(axis=0)\n",
    "top_features = np.argsort(all_features)[-200:]"
   ]
  },
  {
   "cell_type": "code",
   "execution_count": 17,
   "id": "adf81877-56b6-4df8-be60-db701ddb8608",
   "metadata": {},
   "outputs": [],
   "source": [
    "dataset_with_top_200_features = X[:,top_features]\n",
    "X_train,X_test,y_train,y_test = train_test_split(dataset_with_top_200_features,y_labels,test_size=0.2)"
   ]
  },
  {
   "cell_type": "code",
   "execution_count": 18,
   "id": "00854fe2-d159-401f-83e0-12467455759f",
   "metadata": {},
   "outputs": [],
   "source": [
    "log_reg = LogisticRegression(penalty='l1',solver='liblinear')\n",
    "log_reg.fit(X_train,y_train)\n",
    "y_pred = log_reg.predict(X_test)\n",
    "acc = accuracy_score(y_test,y_pred)"
   ]
  },
  {
   "cell_type": "code",
   "execution_count": 19,
   "id": "49b93ba7-4b12-4741-bd1e-fa6c6bd8ccf2",
   "metadata": {},
   "outputs": [
    {
     "name": "stdout",
     "output_type": "stream",
     "text": [
      "Accuracy:0.553\n"
     ]
    }
   ],
   "source": [
    "print('Accuracy:%0.3f'% acc)"
   ]
  },
  {
   "cell_type": "code",
   "execution_count": null,
   "id": "fd7d7e7c-a5fa-4520-949f-b554c6186820",
   "metadata": {},
   "outputs": [],
   "source": []
  }
 ],
 "metadata": {
  "kernelspec": {
   "display_name": "Python 3 (ipykernel)",
   "language": "python",
   "name": "python3"
  },
  "language_info": {
   "codemirror_mode": {
    "name": "ipython",
    "version": 3
   },
   "file_extension": ".py",
   "mimetype": "text/x-python",
   "name": "python",
   "nbconvert_exporter": "python",
   "pygments_lexer": "ipython3",
   "version": "3.9.12"
  }
 },
 "nbformat": 4,
 "nbformat_minor": 5
}
